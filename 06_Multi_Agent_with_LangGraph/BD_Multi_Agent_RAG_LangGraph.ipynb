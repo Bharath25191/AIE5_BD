{
  "nbformat": 4,
  "nbformat_minor": 0,
  "metadata": {
    "colab": {
      "provenance": []
    },
    "kernelspec": {
      "name": "python3",
      "display_name": "Python 3"
    },
    "language_info": {
      "name": "python"
    }
  },
  "cells": [
    {
      "cell_type": "markdown",
      "source": [
        "# Multi-Agent Workflows + RAG - LangGraph\n",
        "\n",
        "Today we'll be looking at an example of a Multi-Agent workflow that's powered by LangGraph, LCEL, and more!\n",
        "\n",
        "We're going to be, more specifically, looking at a \"heirarchical agent teams\" from the [AutoGen: Enabling Next-Gen LLM\n",
        "Applications via Multi-Agent Conversation](https://arxiv.org/pdf/2308.08155) paper.\n",
        "\n",
        "This will be the final \"graph\" of our system:\n",
        "\n",
        "![image](https://i.imgur.com/Bhc7RVE.png)\n",
        "\n",
        "It's important to keep in mind that the actual implementation will be constructed of 3 separate graphs, the final one having 2 graphs as nodes! LangGraph is a heckuva tool!\n",
        "\n"
      ],
      "metadata": {
        "id": "KxpWDFG11o3G"
      }
    },
    {
      "cell_type": "markdown",
      "source": [
        "# 🤝 BREAKOUT ROOM #1"
      ],
      "metadata": {
        "id": "TyzoBrWoYeOZ"
      }
    },
    {
      "cell_type": "markdown",
      "source": [
        "## Dependencies\n",
        "\n",
        "We'll start, as we normally do, by grabbing our dependencies.\n",
        "\n",
        "We'll be using LangChain and LangGraph to power our application, so let's start by grabbing those!"
      ],
      "metadata": {
        "id": "mx3oaVoX5cA2"
      }
    },
    {
      "cell_type": "code",
      "execution_count": 1,
      "metadata": {
        "id": "cs6HUTgecbzW",
        "colab": {
          "base_uri": "https://localhost:8080/"
        },
        "outputId": "ca33a686-a851-4151-a7ce-4780c34f2a2a"
      },
      "outputs": [
        {
          "output_type": "stream",
          "name": "stdout",
          "text": [
            "\u001b[?25l   \u001b[90m━━━━━━━━━━━━━━━━━━━━━━━━━━━━━━━━━━━━━━━━\u001b[0m \u001b[32m0.0/87.7 kB\u001b[0m \u001b[31m?\u001b[0m eta \u001b[36m-:--:--\u001b[0m\r\u001b[2K   \u001b[90m━━━━━━━━━━━━━━━━━━━━━━━━━━━━━━━━━━━━━━━━\u001b[0m \u001b[32m87.7/87.7 kB\u001b[0m \u001b[31m2.7 MB/s\u001b[0m eta \u001b[36m0:00:00\u001b[0m\n",
            "\u001b[?25h\u001b[?25l   \u001b[90m━━━━━━━━━━━━━━━━━━━━━━━━━━━━━━━━━━━━━━━━\u001b[0m \u001b[32m0.0/997.8 kB\u001b[0m \u001b[31m?\u001b[0m eta \u001b[36m-:--:--\u001b[0m\r\u001b[2K   \u001b[91m━━━━━━━━━━━━━━━━━━━━━━━━━━━━━━━━\u001b[0m\u001b[90m╺\u001b[0m\u001b[90m━━━━━━━\u001b[0m \u001b[32m809.0/997.8 kB\u001b[0m \u001b[31m24.1 MB/s\u001b[0m eta \u001b[36m0:00:01\u001b[0m\r\u001b[2K   \u001b[90m━━━━━━━━━━━━━━━━━━━━━━━━━━━━━━━━━━━━━━━━\u001b[0m \u001b[32m997.8/997.8 kB\u001b[0m \u001b[31m16.4 MB/s\u001b[0m eta \u001b[36m0:00:00\u001b[0m\n",
            "\u001b[?25h\u001b[?25l   \u001b[90m━━━━━━━━━━━━━━━━━━━━━━━━━━━━━━━━━━━━━━━━\u001b[0m \u001b[32m0.0/52.0 kB\u001b[0m \u001b[31m?\u001b[0m eta \u001b[36m-:--:--\u001b[0m\r\u001b[2K   \u001b[90m━━━━━━━━━━━━━━━━━━━━━━━━━━━━━━━━━━━━━━━━\u001b[0m \u001b[32m52.0/52.0 kB\u001b[0m \u001b[31m2.8 MB/s\u001b[0m eta \u001b[36m0:00:00\u001b[0m\n",
            "\u001b[2K   \u001b[90m━━━━━━━━━━━━━━━━━━━━━━━━━━━━━━━━━━━━━━━━\u001b[0m \u001b[32m394.9/394.9 kB\u001b[0m \u001b[31m22.5 MB/s\u001b[0m eta \u001b[36m0:00:00\u001b[0m\n",
            "\u001b[2K   \u001b[90m━━━━━━━━━━━━━━━━━━━━━━━━━━━━━━━━━━━━━━━━\u001b[0m \u001b[32m2.3/2.3 MB\u001b[0m \u001b[31m45.8 MB/s\u001b[0m eta \u001b[36m0:00:00\u001b[0m\n",
            "\u001b[2K   \u001b[90m━━━━━━━━━━━━━━━━━━━━━━━━━━━━━━━━━━━━━━━━\u001b[0m \u001b[32m311.8/311.8 kB\u001b[0m \u001b[31m15.5 MB/s\u001b[0m eta \u001b[36m0:00:00\u001b[0m\n",
            "\u001b[2K   \u001b[90m━━━━━━━━━━━━━━━━━━━━━━━━━━━━━━━━━━━━━━━━\u001b[0m \u001b[32m1.2/1.2 MB\u001b[0m \u001b[31m45.2 MB/s\u001b[0m eta \u001b[36m0:00:00\u001b[0m\n",
            "\u001b[2K   \u001b[90m━━━━━━━━━━━━━━━━━━━━━━━━━━━━━━━━━━━━━━━━\u001b[0m \u001b[32m50.9/50.9 kB\u001b[0m \u001b[31m3.5 MB/s\u001b[0m eta \u001b[36m0:00:00\u001b[0m\n",
            "\u001b[?25h"
          ]
        }
      ],
      "source": [
        "!pip install -qU langgraph==0.2.14 langchain==0.2.14 langchain_openai==0.1.23 langchain_core==0.2.35 langchain-community"
      ]
    },
    {
      "cell_type": "markdown",
      "source": [
        "We're going to be showing a simple RAG chain as part of our LangGraph - and so we'll need specific dependencies for that as well!"
      ],
      "metadata": {
        "id": "BMzWFUc25oqT"
      }
    },
    {
      "cell_type": "code",
      "source": [
        "!pip install -qU --disable-pip-version-check qdrant-client pymupdf tiktoken"
      ],
      "metadata": {
        "id": "qEUBCOdukjwc",
        "colab": {
          "base_uri": "https://localhost:8080/"
        },
        "outputId": "36090516-e876-4d0b-96f5-1396274f17a7"
      },
      "execution_count": 2,
      "outputs": [
        {
          "output_type": "stream",
          "name": "stdout",
          "text": [
            "\u001b[2K   \u001b[90m━━━━━━━━━━━━━━━━━━━━━━━━━━━━━━━━━━━━━━━━\u001b[0m \u001b[32m306.6/306.6 kB\u001b[0m \u001b[31m3.9 MB/s\u001b[0m eta \u001b[36m0:00:00\u001b[0m\n",
            "\u001b[2K   \u001b[90m━━━━━━━━━━━━━━━━━━━━━━━━━━━━━━━━━━━━━━━━\u001b[0m \u001b[32m20.0/20.0 MB\u001b[0m \u001b[31m13.7 MB/s\u001b[0m eta \u001b[36m0:00:00\u001b[0m\n",
            "\u001b[2K   \u001b[90m━━━━━━━━━━━━━━━━━━━━━━━━━━━━━━━━━━━━━━━━\u001b[0m \u001b[32m2.5/2.5 MB\u001b[0m \u001b[31m25.3 MB/s\u001b[0m eta \u001b[36m0:00:00\u001b[0m\n",
            "\u001b[2K   \u001b[90m━━━━━━━━━━━━━━━━━━━━━━━━━━━━━━━━━━━━━━━━\u001b[0m \u001b[32m61.0/61.0 kB\u001b[0m \u001b[31m1.9 MB/s\u001b[0m eta \u001b[36m0:00:00\u001b[0m\n",
            "\u001b[2K   \u001b[90m━━━━━━━━━━━━━━━━━━━━━━━━━━━━━━━━━━━━━━━━\u001b[0m \u001b[32m319.7/319.7 kB\u001b[0m \u001b[31m17.1 MB/s\u001b[0m eta \u001b[36m0:00:00\u001b[0m\n",
            "\u001b[?25h"
          ]
        }
      ]
    },
    {
      "cell_type": "markdown",
      "source": [
        "Since we'll be relying on OpenAI's suite of models to power our agents today, we'll want to provide our OpenAI API Key.\n",
        "\n",
        "We're also going to be using the Tavily search tool - so we'll want to provide that API key as well!\n",
        "\n",
        "Instruction for how to obtain the Tavily API key can be found:\n",
        "\n",
        "1. [Tavily API Key](https://app.tavily.com/sign-in)\n",
        "\n"
      ],
      "metadata": {
        "id": "Zpv2MWqu5vS9"
      }
    },
    {
      "cell_type": "code",
      "source": [
        "import os\n",
        "import getpass\n",
        "\n",
        "os.environ[\"OPENAI_API_KEY\"] = getpass.getpass(\"OpenAI API Key:\")\n",
        "os.environ[\"TAVILY_API_KEY\"] = getpass.getpass(\"TAVILY_API_KEY\")"
      ],
      "metadata": {
        "colab": {
          "base_uri": "https://localhost:8080/"
        },
        "id": "h30OjkLfeR2Y",
        "outputId": "4fd9f67f-5abc-45ce-8571-cc598b5412a1"
      },
      "execution_count": 3,
      "outputs": [
        {
          "name": "stdout",
          "output_type": "stream",
          "text": [
            "OpenAI API Key:··········\n",
            "TAVILY_API_KEY··········\n"
          ]
        }
      ]
    },
    {
      "cell_type": "markdown",
      "source": [
        "## Task 1: Simple LCEL RAG\n",
        "\n",
        "Now that we have our dependencies set-up - let's create a simple RAG chain that works over a single PDF.\n",
        "\n",
        "> NOTE: While this particular example is very straight forward - you can \"plug in\" any complexity of chain you desire as a node in a LangGraph."
      ],
      "metadata": {
        "id": "M_LD7rwT6PbO"
      }
    },
    {
      "cell_type": "markdown",
      "source": [
        "## Retrieval\n",
        "\n",
        "The 'R' in 'RAG' - this is, at this point, fairly straightforward!"
      ],
      "metadata": {
        "id": "JY7T5kxJ6jGn"
      }
    },
    {
      "cell_type": "markdown",
      "source": [
        "#### Data Collection and Processing\n",
        "\n",
        "A classic first step, at this point, let's grab our desired document!"
      ],
      "metadata": {
        "id": "DGuPxSCk7Ztz"
      }
    },
    {
      "cell_type": "code",
      "source": [
        "from langchain.document_loaders import PyMuPDFLoader\n",
        "\n",
        "docs = PyMuPDFLoader(\"https://arxiv.org/pdf/2404.19553\").load()"
      ],
      "metadata": {
        "id": "LfuoEYRCln3H"
      },
      "execution_count": 4,
      "outputs": []
    },
    {
      "cell_type": "markdown",
      "source": [
        "Now we can chunk it down to size!"
      ],
      "metadata": {
        "id": "r_t_F1zG6vXa"
      }
    },
    {
      "cell_type": "code",
      "source": [
        "import tiktoken\n",
        "from langchain.text_splitter import RecursiveCharacterTextSplitter\n",
        "\n",
        "def tiktoken_len(text):\n",
        "    tokens = tiktoken.encoding_for_model(\"gpt-4o-mini\").encode(\n",
        "        text,\n",
        "    )\n",
        "    return len(tokens)\n",
        "\n",
        "text_splitter = RecursiveCharacterTextSplitter(\n",
        "    chunk_size = 300,\n",
        "    chunk_overlap = 0,\n",
        "    length_function = tiktoken_len,\n",
        ")\n",
        "\n",
        "split_chunks = text_splitter.split_documents(docs)"
      ],
      "metadata": {
        "id": "5R7A_z8CgL79"
      },
      "execution_count": 5,
      "outputs": []
    },
    {
      "cell_type": "markdown",
      "source": [
        "Now we've successfully split our single PDF into..."
      ],
      "metadata": {
        "id": "lGE-VuMc7AKv"
      }
    },
    {
      "cell_type": "code",
      "source": [
        "len(split_chunks)"
      ],
      "metadata": {
        "colab": {
          "base_uri": "https://localhost:8080/"
        },
        "id": "pgYBHsdWmLvW",
        "outputId": "d0cf6b11-a9ce-499d-8d4e-af6e56aec32c"
      },
      "execution_count": 6,
      "outputs": [
        {
          "output_type": "execute_result",
          "data": {
            "text/plain": [
              "15"
            ]
          },
          "metadata": {},
          "execution_count": 6
        }
      ]
    },
    {
      "cell_type": "markdown",
      "source": [
        "documents!"
      ],
      "metadata": {
        "id": "lxaKmmyh7DHD"
      }
    },
    {
      "cell_type": "markdown",
      "source": [
        "#### Embedding Model and Vector Store\n",
        "\n",
        "Now that we have our chunked document - lets create a vector store, which will first require us to create an embedding model to get the vector representations of our text!\n",
        "\n",
        "We'll use OpenAI's [`text-embedding-3-small`](https://platform.openai.com/docs/guides/embeddings/embedding-models) model - as it's cheap, and performant."
      ],
      "metadata": {
        "id": "cGWs7KTd7QPS"
      }
    },
    {
      "cell_type": "code",
      "source": [
        "from langchain_openai.embeddings import OpenAIEmbeddings\n",
        "\n",
        "embedding_model = OpenAIEmbeddings(model=\"text-embedding-3-small\")"
      ],
      "metadata": {
        "id": "xLIWMMZCmfrj"
      },
      "execution_count": 7,
      "outputs": []
    },
    {
      "cell_type": "markdown",
      "source": [
        "Now we can create our QDrant backed vector store!"
      ],
      "metadata": {
        "id": "lTEi7Ww573sc"
      }
    },
    {
      "cell_type": "code",
      "source": [
        "from langchain_community.vectorstores import Qdrant\n",
        "\n",
        "qdrant_vectorstore = Qdrant.from_documents(\n",
        "    split_chunks,\n",
        "    embedding_model,\n",
        "    location=\":memory:\",\n",
        "    collection_name=\"extending_context_window_llama_3\",\n",
        ")"
      ],
      "metadata": {
        "id": "Xct51f8omVAU"
      },
      "execution_count": 8,
      "outputs": []
    },
    {
      "cell_type": "markdown",
      "source": [
        "Let's make sure we can access it as a retriever."
      ],
      "metadata": {
        "id": "wzGq6o4s79Ar"
      }
    },
    {
      "cell_type": "code",
      "source": [
        "qdrant_retriever = qdrant_vectorstore.as_retriever()"
      ],
      "metadata": {
        "id": "OTnQZbWymi4K"
      },
      "execution_count": 9,
      "outputs": []
    },
    {
      "cell_type": "markdown",
      "source": [
        "### Augmented\n",
        "\n",
        "Now that we have our retrieval process set-up, we need to set up our \"augmentation\" process - AKA a prompt template."
      ],
      "metadata": {
        "id": "aU8qSrMS7_D7"
      }
    },
    {
      "cell_type": "code",
      "source": [
        "from langchain_core.prompts import ChatPromptTemplate\n",
        "\n",
        "RAG_PROMPT = \"\"\"\n",
        "CONTEXT:\n",
        "{context}\n",
        "\n",
        "QUERY:\n",
        "{question}\n",
        "\n",
        "You are a helpful assistant. Use the available context to answer the question. If you can't answer the question, say you don't know.\n",
        "\"\"\"\n",
        "\n",
        "rag_prompt = ChatPromptTemplate.from_template(RAG_PROMPT)"
      ],
      "metadata": {
        "id": "lezTN0zCmk46"
      },
      "execution_count": 10,
      "outputs": []
    },
    {
      "cell_type": "markdown",
      "source": [
        "### Generation\n",
        "\n",
        "Last, but certainly not least, let's put the 'G' in 'RAG' by adding our generator - in this case, we can rely on OpenAI's [`gpt-4o-mini`](https://platform.openai.com/docs/models/gpt-4o-mini) model!"
      ],
      "metadata": {
        "id": "Y9fa63nM7IKK"
      }
    },
    {
      "cell_type": "code",
      "source": [
        "from langchain_openai import ChatOpenAI\n",
        "\n",
        "openai_chat_model = ChatOpenAI(model=\"gpt-4o-mini\")"
      ],
      "metadata": {
        "id": "AwEi29-Jo3a8"
      },
      "execution_count": 11,
      "outputs": []
    },
    {
      "cell_type": "markdown",
      "source": [
        "### RAG - Retrieval Augmented Generation\n",
        "\n",
        "All that's left to do is combine our R, A, and G into a single chain - and we're off!"
      ],
      "metadata": {
        "id": "qO-ZC0T98XJJ"
      }
    },
    {
      "cell_type": "code",
      "source": [
        "from operator import itemgetter\n",
        "from langchain.schema.output_parser import StrOutputParser\n",
        "\n",
        "rag_chain = (\n",
        "    {\"context\": itemgetter(\"question\") | qdrant_retriever, \"question\": itemgetter(\"question\")}\n",
        "    | rag_prompt | openai_chat_model | StrOutputParser()\n",
        ")"
      ],
      "metadata": {
        "id": "nlOJrPm_oT3S"
      },
      "execution_count": 12,
      "outputs": []
    },
    {
      "cell_type": "markdown",
      "source": [
        "Let's test this out and make sure it works."
      ],
      "metadata": {
        "id": "qiWrbXpu8ggz"
      }
    },
    {
      "cell_type": "code",
      "source": [
        "rag_chain.invoke({\"question\" : \"What does the 'context' in 'long context' refer to?\"})"
      ],
      "metadata": {
        "colab": {
          "base_uri": "https://localhost:8080/",
          "height": 105
        },
        "id": "gJhFlW32pBPe",
        "outputId": "b001ff39-c8f4-454e-9b96-4fe4b6967e5c"
      },
      "execution_count": 13,
      "outputs": [
        {
          "output_type": "execute_result",
          "data": {
            "text/plain": [
              "'In the context of \"long context\" as mentioned in the document, \\'context\\' refers to the amount of text or information that a language model can process and utilize to generate responses. Specifically, it involves the length of input data that the model can handle, which can include lengthy documents, books, or any extended textual content that requires the model to understand and analyze information over a large span of text. The document discusses extending the context length of the Llama-3 model from 8K to 80K tokens, indicating a focus on enhancing the model\\'s ability to work with significantly more information at once.'"
            ],
            "application/vnd.google.colaboratory.intrinsic+json": {
              "type": "string"
            }
          },
          "metadata": {},
          "execution_count": 13
        }
      ]
    },
    {
      "cell_type": "markdown",
      "source": [
        "### RAG Limitation\n",
        "\n",
        "Notice how we're hard-coding our data, while this is simply meant to be an illustrative example - you could easily extend this to work with any provied paper or document in order to have a more dynamic system.\n",
        "\n",
        "For now, we'll stick with this single hard-coded example in order to keep complexity down in an already very long notebook!"
      ],
      "metadata": {
        "id": "gReMizYk8qd-"
      }
    },
    {
      "cell_type": "markdown",
      "source": [
        "##### 🏗️ Activity #1 (Bonus Marks)\n",
        "\n",
        "Allow the system to dynamically fetch Arxiv papers instead of hard coding them.\n",
        "\n",
        "We can utilize the agentic framework, and use the Arxiv tool to dynamically get the paper based on the question which the user asks.\n",
        "\n",
        "> HINT: Tuesday's assignment will be very useful here."
      ],
      "metadata": {
        "id": "oxkbuir-H5rE"
      }
    },
    {
      "cell_type": "markdown",
      "source": [
        "## Task 2: Helper Functions for Agent Graphs\n",
        "\n",
        "We'll be using a number of agents, nodes, and supervisors in the rest of the notebook - and so it will help to have a collection of useful helper functions that we can leverage to make our lives easier going forward.\n",
        "\n",
        "Let's start with the most simple one!"
      ],
      "metadata": {
        "id": "7U6a_pqQ9uWf"
      }
    },
    {
      "cell_type": "markdown",
      "source": [
        "#### Import Wall\n",
        "\n",
        "Here's a wall of imports we'll be needing going forward!"
      ],
      "metadata": {
        "id": "IDUnpEEl-L_F"
      }
    },
    {
      "cell_type": "code",
      "source": [
        "from typing import Any, Callable, List, Optional, TypedDict, Union\n",
        "\n",
        "from langchain.agents import AgentExecutor, create_openai_functions_agent\n",
        "from langchain.output_parsers.openai_functions import JsonOutputFunctionsParser\n",
        "from langchain_core.prompts import ChatPromptTemplate, MessagesPlaceholder\n",
        "from langchain_core.messages import AIMessage, BaseMessage, HumanMessage\n",
        "from langchain_core.runnables import Runnable\n",
        "from langchain_core.tools import BaseTool\n",
        "from langchain_openai import ChatOpenAI\n",
        "\n",
        "from langgraph.graph import END, StateGraph"
      ],
      "metadata": {
        "id": "TbzoL3Q3-SG1"
      },
      "execution_count": 14,
      "outputs": []
    },
    {
      "cell_type": "markdown",
      "source": [
        "### Agent Node Helper\n",
        "\n",
        "Since we're going to be wrapping each of our agents into a node - it will help to have an easy way to create the node!"
      ],
      "metadata": {
        "id": "qb6Z3EEz-Asi"
      }
    },
    {
      "cell_type": "code",
      "source": [
        "def agent_node(state, agent, name):\n",
        "    result = agent.invoke(state)\n",
        "    return {\"messages\": [HumanMessage(content=result[\"output\"], name=name)]}"
      ],
      "metadata": {
        "id": "5IF7KWfS-JKd"
      },
      "execution_count": 15,
      "outputs": []
    },
    {
      "cell_type": "markdown",
      "source": [
        "### Agent Creation Helper Function\n",
        "\n",
        "Since we know we'll need to create agents to populate our agent nodes, let's use a helper function for that as well!\n",
        "\n",
        "Notice a few things:\n",
        "\n",
        "1. We have a standard suffix to append to our system messages for each agent to handle the tool calling and boilerplate prompting.\n",
        "2. Each agent has its our scratchpad.\n",
        "3. We're relying on OpenAI's function-calling API for tool selection\n",
        "4. Each agent is its own executor."
      ],
      "metadata": {
        "id": "fwND2teK-WHm"
      }
    },
    {
      "cell_type": "code",
      "source": [
        "def create_agent(\n",
        "    llm: ChatOpenAI,\n",
        "    tools: list,\n",
        "    system_prompt: str,\n",
        ") -> str:\n",
        "    \"\"\"Create a function-calling agent and add it to the graph.\"\"\"\n",
        "    system_prompt += (\"\\nWork autonomously according to your specialty, using the tools available to you.\"\n",
        "    \" Do not ask for clarification.\"\n",
        "    \" Your other team members (and other teams) will collaborate with you with their own specialties.\"\n",
        "    \" You are chosen for a reason! You are one of the following team members: {team_members}.\")\n",
        "    prompt = ChatPromptTemplate.from_messages(\n",
        "        [\n",
        "            (\n",
        "                \"system\",\n",
        "                system_prompt,\n",
        "            ),\n",
        "            MessagesPlaceholder(variable_name=\"messages\"),\n",
        "            MessagesPlaceholder(variable_name=\"agent_scratchpad\"),\n",
        "        ]\n",
        "    )\n",
        "    agent = create_openai_functions_agent(llm, tools, prompt)\n",
        "    executor = AgentExecutor(agent=agent, tools=tools)\n",
        "    return executor"
      ],
      "metadata": {
        "id": "NxLyHJt5-eUx"
      },
      "execution_count": 16,
      "outputs": []
    },
    {
      "cell_type": "markdown",
      "source": [
        "### Supervisor Helper Function\n",
        "\n",
        "Finally, we need a \"supervisor\" that decides and routes tasks to specific agents.\n",
        "\n",
        "Since each \"team\" will have a collection of potential agents - this \"supervisor\" will act as an \"intelligent\" router to make sure that the right agent is selected for the right task.\n",
        "\n",
        "Notice that, at the end of the day, this \"supervisor\" is simply directing who acts next - or if the state is considered \"done\"."
      ],
      "metadata": {
        "id": "S6kmlR9d-1K5"
      }
    },
    {
      "cell_type": "code",
      "source": [
        "def create_team_supervisor(llm: ChatOpenAI, system_prompt, members) -> str:\n",
        "    \"\"\"An LLM-based router.\"\"\"\n",
        "    options = [\"FINISH\"] + members\n",
        "    function_def = {\n",
        "        \"name\": \"route\",\n",
        "        \"description\": \"Select the next role.\",\n",
        "        \"parameters\": {\n",
        "            \"title\": \"routeSchema\",\n",
        "            \"type\": \"object\",\n",
        "            \"properties\": {\n",
        "                \"next\": {\n",
        "                    \"title\": \"Next\",\n",
        "                    \"anyOf\": [\n",
        "                        {\"enum\": options},\n",
        "                    ],\n",
        "                },\n",
        "            },\n",
        "            \"required\": [\"next\"],\n",
        "        },\n",
        "    }\n",
        "    prompt = ChatPromptTemplate.from_messages(\n",
        "        [\n",
        "            (\"system\", system_prompt),\n",
        "            MessagesPlaceholder(variable_name=\"messages\"),\n",
        "            (\n",
        "                \"system\",\n",
        "                \"Given the conversation above, who should act next?\"\n",
        "                \" Or should we FINISH? Select one of: {options}\",\n",
        "            ),\n",
        "        ]\n",
        "    ).partial(options=str(options), team_members=\", \".join(members))\n",
        "    return (\n",
        "        prompt\n",
        "        | llm.bind_functions(functions=[function_def], function_call=\"route\")\n",
        "        | JsonOutputFunctionsParser()\n",
        "    )"
      ],
      "metadata": {
        "id": "S2MXA83mrYE2"
      },
      "execution_count": 17,
      "outputs": []
    },
    {
      "cell_type": "markdown",
      "source": [
        "## Task 3: Research Team - A LangGraph for Researching A Specific Topic\n",
        "\n",
        "Now that we have our RAG chain set-up and some awesome helper functions, we want to create a LangGraph related to researching a specific topic.\n",
        "\n",
        "We're going to start by equipping our Research Team with a few tools:\n",
        "\n",
        "1. Tavily Search - aka \"Google\", for the most up to date information possible.\n",
        "2. Our RAG chain - specific and high quality information about our topic.\n",
        "\n",
        "Let's create those tools now!"
      ],
      "metadata": {
        "id": "jd0zfyq48jKb"
      }
    },
    {
      "cell_type": "markdown",
      "source": [
        "### Tool Creation\n",
        "\n",
        "As you can see below, some tools already come pre-packaged ready to use!"
      ],
      "metadata": {
        "id": "VNsVTZrH_alw"
      }
    },
    {
      "cell_type": "code",
      "source": [
        "from langchain_community.tools.tavily_search import TavilySearchResults\n",
        "\n",
        "tavily_tool = TavilySearchResults(max_results=5)"
      ],
      "metadata": {
        "id": "ce7FKTZDgAWG"
      },
      "execution_count": 18,
      "outputs": []
    },
    {
      "cell_type": "markdown",
      "source": [
        "Creating a custom tool, however, is very straightforward.\n",
        "\n",
        "> NOTE: You *must* include a docstring, as that is what the LLM will consider when deciding when to use this tool."
      ],
      "metadata": {
        "id": "NIR7cbTL9agM"
      }
    },
    {
      "cell_type": "code",
      "source": [
        "from typing import Annotated, List, Tuple, Union\n",
        "from langchain_core.tools import tool\n",
        "\n",
        "@tool\n",
        "def retrieve_information(\n",
        "    query: Annotated[str, \"query to ask the retrieve information tool\"]\n",
        "    ):\n",
        "  \"\"\"Use Retrieval Augmented Generation to retrieve information about the 'Extending Llama-3’s Context Ten-Fold Overnight' paper.\"\"\"\n",
        "  return rag_chain.invoke({\"question\" : query})"
      ],
      "metadata": {
        "id": "sSwO2L_UqFhm"
      },
      "execution_count": 19,
      "outputs": []
    },
    {
      "cell_type": "markdown",
      "source": [
        "> NOTE: We could just as easily use the LCEL chain directly, since nodes can be LCEL objects - but creating a tool helps explain the tool creation process at the same time."
      ],
      "metadata": {
        "id": "nxsMnqjpBTCj"
      }
    },
    {
      "cell_type": "markdown",
      "source": [
        "### Research Team State\n",
        "\n",
        "Since we're using LangGraph - we're going to need state!\n",
        "\n",
        "Let's look at how we've created our state below."
      ],
      "metadata": {
        "id": "oDHCajO4_gB2"
      }
    },
    {
      "cell_type": "code",
      "source": [
        "import functools\n",
        "import operator\n",
        "\n",
        "from langchain_core.messages import AIMessage, BaseMessage, HumanMessage\n",
        "from langchain_openai.chat_models import ChatOpenAI\n",
        "import functools\n",
        "\n",
        "class ResearchTeamState(TypedDict):\n",
        "    messages: Annotated[List[BaseMessage], operator.add]\n",
        "    team_members: List[str]\n",
        "    next: str"
      ],
      "metadata": {
        "id": "mXminK9d_1fa"
      },
      "execution_count": 20,
      "outputs": []
    },
    {
      "cell_type": "markdown",
      "source": [
        "Notice how we've used `messages`, `team_members`, and `next`.\n",
        "\n",
        "These states will help us understand:\n",
        "\n",
        "1. What we've done so far (`messages`)\n",
        "2. Which team members we have access to (`team_members`)\n",
        "3. Which team member is up next! (`next`)"
      ],
      "metadata": {
        "id": "fvPM5msq_18C"
      }
    },
    {
      "cell_type": "markdown",
      "source": [
        "### Research Team LLM\n",
        "\n",
        "We'll be using `gpt-4-turbo` today. This LLM is going to be doing a lot of reasoning - and so using a \"powerful\" LLM is very important here!"
      ],
      "metadata": {
        "id": "Mu7B_6qHAFjK"
      }
    },
    {
      "cell_type": "code",
      "source": [
        "llm = ChatOpenAI(model=\"gpt-4-turbo\")"
      ],
      "metadata": {
        "id": "dTNqrip8AcKR"
      },
      "execution_count": 21,
      "outputs": []
    },
    {
      "cell_type": "markdown",
      "source": [
        "##### ❓ Question #1:\n",
        "\n",
        "Why is a \"powerful\" LLM important for this use-case?\n",
        "\n",
        "We need a powerful LLM for its reasoning capability, as it needs to infer which Agent to invoke based on user context, infact downstream nodes can be still be catered using weaker LLMs.\n",
        "\n",
        "What tasks must our Agent perform that make it such that the LLM's reasoning capability is a potential limiter?\n",
        "\n",
        "1. Task Decomposition and Planning\n",
        "2. Managing multiple agents\n",
        "3. Complex Reasoning/Retrieval\n",
        "\n",
        "\n"
      ],
      "metadata": {
        "id": "pfb_VCNKIy9w"
      }
    },
    {
      "cell_type": "markdown",
      "source": [
        "### Research Team Agents & Nodes\n",
        "\n",
        "Now we can use our helper functions to create our agent nodes, with their related tools.\n",
        "\n",
        "Let's start with our search agent node."
      ],
      "metadata": {
        "id": "ZR_1LuMKAekf"
      }
    },
    {
      "cell_type": "markdown",
      "source": [
        "#### Research Team: Search Agent\n",
        "\n",
        "We're going to give our agent access to the Tavily tool, power it with our GPT-4 Turbo model, and then create its node - and name it `Search`."
      ],
      "metadata": {
        "id": "uzx6wuPoAlPq"
      }
    },
    {
      "cell_type": "code",
      "source": [
        "search_agent = create_agent(\n",
        "    llm,\n",
        "    [tavily_tool],\n",
        "    \"You are a research assistant who can search for up-to-date info using the tavily search engine.\",\n",
        ")\n",
        "search_node = functools.partial(agent_node, agent=search_agent, name=\"Search\")"
      ],
      "metadata": {
        "id": "FIlLPxj7Atpj"
      },
      "execution_count": 22,
      "outputs": []
    },
    {
      "cell_type": "markdown",
      "source": [
        "#### Research Team: RAG Agent Node\n",
        "\n",
        "Now we can wrap our LCEL RAG pipeline in an agent node as well, using the LCEL RAG pipeline as the tool, as created above."
      ],
      "metadata": {
        "id": "emLtesudA9Dd"
      }
    },
    {
      "cell_type": "code",
      "source": [
        "research_agent = create_agent(\n",
        "    llm,\n",
        "    [retrieve_information],\n",
        "    \"You are a research assistant who can provide specific information on the provided paper: 'Extending Llama-3’s Context Ten-Fold Overnight'. You must only respond with information about the paper related to the request.\",\n",
        ")\n",
        "research_node = functools.partial(agent_node, agent=research_agent, name=\"PaperInformationRetriever\")"
      ],
      "metadata": {
        "id": "z-nnAG9XA_p7"
      },
      "execution_count": 23,
      "outputs": []
    },
    {
      "cell_type": "markdown",
      "source": [
        "### Research Team Supervisor Agent\n",
        "\n",
        "Notice that we're not yet creating our supervisor *node*, simply the agent here.\n",
        "\n",
        "Also notice how we need to provide a few extra pieces of information - including which tools we're using.\n",
        "\n",
        "> NOTE: It's important to use the *exact* tool name, as that is how the LLM will reference the tool. Also, it's important that your tool name is all a single alphanumeric string!\n",
        "\n"
      ],
      "metadata": {
        "id": "dA5z6T1CBeSc"
      }
    },
    {
      "cell_type": "code",
      "source": [
        "supervisor_agent = create_team_supervisor(\n",
        "    llm,\n",
        "    (\"You are a supervisor tasked with managing a conversation between the\"\n",
        "    \" following workers:  Search, PaperInformationRetriever. Given the following user request,\"\n",
        "    \" determine the subject to be researched and respond with the worker to act next. Each worker will perform a\"\n",
        "    \" task and respond with their results and status. \"\n",
        "    \" You should never ask your team to do anything beyond research. They are not required to write content or posts.\"\n",
        "    \" You should only pass tasks to workers that are specifically research focused.\"\n",
        "    \" When finished, respond with FINISH.\"),\n",
        "    [\"Search\", \"PaperInformationRetriever\"],\n",
        ")"
      ],
      "metadata": {
        "id": "J0g8CQMBrtFs"
      },
      "execution_count": 24,
      "outputs": []
    },
    {
      "cell_type": "markdown",
      "source": [
        "### Research Team Graph Creation\n",
        "\n",
        "Now that we have our research team agent nodes created, and our supervisor agent - let's finally construct our graph!\n",
        "\n",
        "We'll start by creating our base graph from our state, and then adding the nodes/agent we've created as nodes on our LangGraph."
      ],
      "metadata": {
        "id": "qohn0DcgB_U1"
      }
    },
    {
      "cell_type": "code",
      "source": [
        "research_graph = StateGraph(ResearchTeamState)\n",
        "\n",
        "research_graph.add_node(\"Search\", search_node)\n",
        "research_graph.add_node(\"PaperInformationRetriever\", research_node)\n",
        "research_graph.add_node(\"supervisor\", supervisor_agent)"
      ],
      "metadata": {
        "id": "p0s2GAgJCN8G"
      },
      "execution_count": 25,
      "outputs": []
    },
    {
      "cell_type": "markdown",
      "source": [
        "Now we can define our edges - include our conditional edge from our supervisor to our agent nodes.\n",
        "\n",
        "Notice how we're always routing our agent nodes back to our supervisor!"
      ],
      "metadata": {
        "id": "33qixRGNCaAX"
      }
    },
    {
      "cell_type": "code",
      "source": [
        "research_graph.add_edge(\"Search\", \"supervisor\")\n",
        "research_graph.add_edge(\"PaperInformationRetriever\", \"supervisor\")\n",
        "research_graph.add_conditional_edges(\n",
        "    \"supervisor\",\n",
        "    lambda x: x[\"next\"],\n",
        "    {\"Search\": \"Search\", \"PaperInformationRetriever\": \"PaperInformationRetriever\", \"FINISH\": END},\n",
        ")"
      ],
      "metadata": {
        "id": "yYSJIhijsGyg"
      },
      "execution_count": 26,
      "outputs": []
    },
    {
      "cell_type": "markdown",
      "source": [
        "Now we can set our supervisor node as the entry point, and compile our graph!"
      ],
      "metadata": {
        "id": "hgGcuZzkCj1-"
      }
    },
    {
      "cell_type": "code",
      "source": [
        "research_graph.set_entry_point(\"supervisor\")\n",
        "chain = research_graph.compile()"
      ],
      "metadata": {
        "id": "1l-1I2Z3CnPX"
      },
      "execution_count": 27,
      "outputs": []
    },
    {
      "cell_type": "markdown",
      "source": [
        "#### Display Graph"
      ],
      "metadata": {
        "id": "GDwQpYTSEY13"
      }
    },
    {
      "cell_type": "code",
      "source": [
        "from IPython.display import Image, display\n",
        "\n",
        "try:\n",
        "    display(Image(chain.get_graph(xray=True).draw_mermaid_png()))\n",
        "except:\n",
        "    pass"
      ],
      "metadata": {
        "colab": {
          "base_uri": "https://localhost:8080/",
          "height": 488
        },
        "id": "l8n6SXhpEa2b",
        "outputId": "ce69d5fc-1e39-413c-b25d-1ba4a9f83ee8"
      },
      "execution_count": 28,
      "outputs": [
        {
          "output_type": "display_data",
          "data": {
            "image/jpeg": "[encoded data removed]",
            "text/plain": [
              "<IPython.core.display.Image object>"
            ]
          },
          "metadata": {}
        }
      ]
    },
    {
      "cell_type": "markdown",
      "source": [
        "The next part is key - since we need to \"wrap\" our LangGraph in order for it to be compatible in the following steps - let's create an LCEL chain out of it!\n",
        "\n",
        "This allows us to \"broadcast\" messages down to our Research Team LangGraph!"
      ],
      "metadata": {
        "id": "bfRvA2QfCqFL"
      }
    },
    {
      "cell_type": "code",
      "source": [
        "def enter_chain(message: str):\n",
        "    results = {\n",
        "        \"messages\": [HumanMessage(content=message)],\n",
        "    }\n",
        "    return results\n",
        "\n",
        "research_chain = enter_chain | chain"
      ],
      "metadata": {
        "id": "1G7hmEINCx3i"
      },
      "execution_count": 29,
      "outputs": []
    },
    {
      "cell_type": "markdown",
      "source": [
        "Now, finally, we can take it for a spin!"
      ],
      "metadata": {
        "id": "EGdoCdXWC7Pi"
      }
    },
    {
      "cell_type": "code",
      "source": [
        "for s in research_chain.stream(\n",
        "    \"What are the main takeaways from the paper `Extending Llama-3's Context Ten-Fold Overnight'? Please use Search and PaperInformationRetriever!\", {\"recursion_limit\": 100}\n",
        "):\n",
        "    if \"__end__\" not in s:\n",
        "        print(s)\n",
        "        print(\"---\")"
      ],
      "metadata": {
        "colab": {
          "base_uri": "https://localhost:8080/"
        },
        "id": "xIDpFIg2sRUl",
        "outputId": "84ced2ec-9b86-48c5-b191-00ad2121f0e8"
      },
      "execution_count": 30,
      "outputs": [
        {
          "output_type": "stream",
          "name": "stdout",
          "text": [
            "{'supervisor': {'next': 'Search'}}\n",
            "---\n",
            "{'Search': {'messages': [HumanMessage(content=\"I encountered an issue accessing the search results for the paper `Extending Llama-3's Context Ten-Fold Overnight`. Unfortunately, this prevents me from providing the main takeaways directly. If you can provide access to the paper or any specific sections of it, I’ll be able to help analyze and summarize the content for you.\", name='Search')]}}\n",
            "---\n",
            "{'supervisor': {'next': 'PaperInformationRetriever'}}\n",
            "---\n",
            "{'PaperInformationRetriever': {'messages': [HumanMessage(content='The main takeaways from the paper \"Extending Llama-3’s Context Ten-Fold Overnight\" include:\\n\\n1. **Context Length Extension**: The Llama-3-8B-Instruct model\\'s context length was successfully extended from 8K to 80K tokens using QLoRA fine-tuning, significantly enhancing its ability to handle longer contexts.\\n\\n2. **Efficiency**: The training process was highly efficient, completed in just 8 hours using an 8xA800 (80G) GPU machine.\\n\\n3. **Performance Improvements**: The extended model demonstrated superior performance on various tasks such as NIHS, topic retrieval, and long-context language understanding, while maintaining its effectiveness in short-context scenarios.\\n\\n4. **Use of Synthetic Training Samples**: The extension was achieved using only 3.5K synthetic training samples generated by GPT-4, emphasizing the adaptability of large language models to extend beyond their initial programming limitations.\\n\\n5. **Future Extensions**: The researchers indicated that with additional computational resources, it might be possible to extend the context length even further than 80K tokens.\\n\\n6. **Public Release**: All resources related to this project, including the model, data, and training code, are planned to be released publicly.\\n\\n7. **Training Dataset Composition**: The training dataset consisted of 20K instances, incorporating contributions from RedPajama and LongAlpaca to counteract potential forgetting effects.\\n\\n8. **Impact on Short-Context Performance**: There is a potential trade-off, as extending the context length could compromise the model\\'s performance in short-context tasks, a factor observed in comparisons with the original model and others.\\n\\nThese points highlight the significant developments and future potential presented in the study regarding extending the context length of Llama-3.', name='PaperInformationRetriever')]}}\n",
            "---\n",
            "{'supervisor': {'next': 'FINISH'}}\n",
            "---\n"
          ]
        }
      ]
    },
    {
      "cell_type": "markdown",
      "source": [
        "##### 🏗️ Activity #2:\n",
        "\n",
        "Using whatever drawing application you wish - please label the flow above on a diagram of your graph."
      ],
      "metadata": {
        "id": "DHAgsbwIIhwj"
      }
    },
    {
      "cell_type": "markdown",
      "source": [
        "##### ❓ Question #2:\n",
        "\n",
        "How could you make sure your Agent uses specific tools that you wish it to use? Are there any ways to concretely set a flow through tools?\n",
        "![Screen Shot 2025-02-03 at 11.46.42 PM.png](data:image/png;base64,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)"
      ],
      "metadata": {
        "id": "eH70eHGlJbq4"
      }
    },
    {
      "cell_type": "markdown",
      "source": [
        "# 🤝 BREAKOUT ROOM #2"
      ],
      "metadata": {
        "id": "iktcBorGXmAW"
      }
    },
    {
      "cell_type": "markdown",
      "source": [
        "## Task 4: Document Writing Team - A LangGraph for Writing, Editing, and Planning a LinkedIn post.\n",
        "\n",
        "Let's run it all back, this time specifically creating tools, agent nodes, and a graph for planning, writing, and editing a LinkedIn post!"
      ],
      "metadata": {
        "id": "ejsHCZZ2EmwM"
      }
    },
    {
      "cell_type": "markdown",
      "source": [
        "### Tool Creation\n",
        "\n",
        "Let's create some tools that will help us understand, open, work with, and edit documents to our liking!"
      ],
      "metadata": {
        "id": "4awQtZ-oFUN-"
      }
    },
    {
      "cell_type": "code",
      "source": [
        "from pathlib import Path\n",
        "from tempfile import TemporaryDirectory\n",
        "from typing import Dict, Optional\n",
        "from typing_extensions import TypedDict\n",
        "import uuid\n",
        "import os\n",
        "\n",
        "os.makedirs('/content/data', exist_ok=True)\n",
        "\n",
        "def create_random_subdirectory():\n",
        "    random_id = str(uuid.uuid4())[:8]  # Use first 8 characters of a UUID\n",
        "    subdirectory_path = os.path.join('/content/data', random_id)\n",
        "    os.makedirs(subdirectory_path, exist_ok=True)\n",
        "    return subdirectory_path\n",
        "\n",
        "WORKING_DIRECTORY = Path(create_random_subdirectory())\n",
        "\n",
        "@tool\n",
        "def create_outline(\n",
        "    points: Annotated[List[str], \"List of main points or sections.\"],\n",
        "    file_name: Annotated[str, \"File path to save the outline.\"],\n",
        ") -> Annotated[str, \"Path of the saved outline file.\"]:\n",
        "    \"\"\"Create and save an outline.\"\"\"\n",
        "    with (WORKING_DIRECTORY / file_name).open(\"w\") as file:\n",
        "        for i, point in enumerate(points):\n",
        "            file.write(f\"{i + 1}. {point}\\n\")\n",
        "    return f\"Outline saved to {file_name}\"\n",
        "\n",
        "\n",
        "@tool\n",
        "def read_document(\n",
        "    file_name: Annotated[str, \"File path to save the document.\"],\n",
        "    start: Annotated[Optional[int], \"The start line. Default is 0\"] = None,\n",
        "    end: Annotated[Optional[int], \"The end line. Default is None\"] = None,\n",
        ") -> str:\n",
        "    \"\"\"Read the specified document.\"\"\"\n",
        "    with (WORKING_DIRECTORY / file_name).open(\"r\") as file:\n",
        "        lines = file.readlines()\n",
        "    if start is not None:\n",
        "        start = 0\n",
        "    return \"\\n\".join(lines[start:end])\n",
        "\n",
        "\n",
        "@tool\n",
        "def write_document(\n",
        "    content: Annotated[str, \"Text content to be written into the document.\"],\n",
        "    file_name: Annotated[str, \"File path to save the document.\"],\n",
        ") -> Annotated[str, \"Path of the saved document file.\"]:\n",
        "    \"\"\"Create and save a text document.\"\"\"\n",
        "    with (WORKING_DIRECTORY / file_name).open(\"w\") as file:\n",
        "        file.write(content)\n",
        "    return f\"Document saved to {file_name}\"\n",
        "\n",
        "\n",
        "@tool\n",
        "def edit_document(\n",
        "    file_name: Annotated[str, \"Path of the document to be edited.\"],\n",
        "    inserts: Annotated[\n",
        "        Dict[int, str],\n",
        "        \"Dictionary where key is the line number (1-indexed) and value is the text to be inserted at that line.\",\n",
        "    ] = {},\n",
        ") -> Annotated[str, \"Path of the edited document file.\"]:\n",
        "    \"\"\"Edit a document by inserting text at specific line numbers.\"\"\"\n",
        "\n",
        "    with (WORKING_DIRECTORY / file_name).open(\"r\") as file:\n",
        "        lines = file.readlines()\n",
        "\n",
        "    sorted_inserts = sorted(inserts.items())\n",
        "\n",
        "    for line_number, text in sorted_inserts:\n",
        "        if 1 <= line_number <= len(lines) + 1:\n",
        "            lines.insert(line_number - 1, text + \"\\n\")\n",
        "        else:\n",
        "            return f\"Error: Line number {line_number} is out of range.\"\n",
        "\n",
        "    with (WORKING_DIRECTORY / file_name).open(\"w\") as file:\n",
        "        file.writelines(lines)\n",
        "\n",
        "    return f\"Document edited and saved to {file_name}\""
      ],
      "metadata": {
        "id": "ptXilgparOkq"
      },
      "execution_count": 31,
      "outputs": []
    },
    {
      "cell_type": "markdown",
      "source": [
        "##### 🏗️ Activity #3:\n",
        "\n",
        "Describe, briefly, what each of these tools is doing in your own words.\n",
        "\n",
        "1. create_outline\n",
        "\n",
        "Sequentially iterates through all the points, and creates a numbered outline and saves them to file name inside working directory\n",
        "\n",
        "2. read_document\n",
        "\n",
        "Allows the user to read a file from the working directory,it can also support reading a specific range of lines.\n",
        "\n",
        "3. write_document\n",
        "\n",
        "Creates a file with a given text content and saves it to working directory\n",
        "\n",
        "4. edit_document\n",
        "\n",
        "Opens a document and inserts new lines at specific positions.\n",
        "Takes a dictionary where keys are line numbers and values are the text to insert. Updates the file after making edits specified in the dictionary."
      ],
      "metadata": {
        "id": "n8yH1IAYK7nL"
      }
    },
    {
      "cell_type": "markdown",
      "source": [
        "### Document Writing State\n",
        "\n",
        "Just like with our Research Team state - we want to keep track of a few things, however this time - we also want to keep track of which files we've created - so let's add that here!"
      ],
      "metadata": {
        "id": "__Jw_XBIFwwa"
      }
    },
    {
      "cell_type": "code",
      "source": [
        "import operator\n",
        "from pathlib import Path\n",
        "\n",
        "class DocWritingState(TypedDict):\n",
        "    messages: Annotated[List[BaseMessage], operator.add]\n",
        "    team_members: str\n",
        "    next: str\n",
        "    current_files: str"
      ],
      "metadata": {
        "id": "DoU2YwJRu7wD"
      },
      "execution_count": 32,
      "outputs": []
    },
    {
      "cell_type": "markdown",
      "source": [
        "### Document Writing Prelude Function\n",
        "\n",
        "Since we have a working directory - we want to be clear about what our current working directory looks like - this helper function will allow us to do that cleanly!"
      ],
      "metadata": {
        "id": "4p1kQShmGHCh"
      }
    },
    {
      "cell_type": "code",
      "source": [
        "def prelude(state):\n",
        "    written_files = []\n",
        "    if not WORKING_DIRECTORY.exists():\n",
        "        WORKING_DIRECTORY.mkdir()\n",
        "    try:\n",
        "        written_files = [\n",
        "            f.relative_to(WORKING_DIRECTORY) for f in WORKING_DIRECTORY.rglob(\"*\")\n",
        "        ]\n",
        "    except:\n",
        "        pass\n",
        "    if not written_files:\n",
        "        return {**state, \"current_files\": \"No files written.\"}\n",
        "    return {\n",
        "        **state,\n",
        "        \"current_files\": \"\\nBelow are files your team has written to the directory:\\n\"\n",
        "        + \"\\n\".join([f\" - {f}\" for f in written_files]),\n",
        "    }"
      ],
      "metadata": {
        "id": "G79mUggQGLVq"
      },
      "execution_count": 33,
      "outputs": []
    },
    {
      "cell_type": "markdown",
      "source": [
        "### Document Writing Node Creation\n",
        "\n"
      ],
      "metadata": {
        "id": "wbSre9agT9Gb"
      }
    },
    {
      "cell_type": "code",
      "source": [
        "doc_writer_agent = create_agent(\n",
        "    llm,\n",
        "    [write_document, edit_document, read_document],\n",
        "    (\"You are an expert writing technical LinkedIn posts.\\n\"\n",
        "    \"Below are files currently in your directory:\\n{current_files}\"),\n",
        ")\n",
        "context_aware_doc_writer_agent = prelude | doc_writer_agent\n",
        "doc_writing_node = functools.partial(\n",
        "    agent_node, agent=context_aware_doc_writer_agent, name=\"DocWriter\"\n",
        ")\n",
        "\n",
        "note_taking_agent = create_agent(\n",
        "    llm,\n",
        "    [create_outline, read_document],\n",
        "    (\"You are an expert senior researcher tasked with writing a LinkedIn post outline and\"\n",
        "    \" taking notes to craft a LinkedIn post.\\n{current_files}\"),\n",
        ")\n",
        "context_aware_note_taking_agent = prelude | note_taking_agent\n",
        "note_taking_node = functools.partial(\n",
        "    agent_node, agent=context_aware_note_taking_agent, name=\"NoteTaker\"\n",
        ")\n",
        "\n",
        "copy_editor_agent = create_agent(\n",
        "    llm,\n",
        "    [write_document, edit_document, read_document],\n",
        "    (\"You are an expert copy editor who focuses on fixing grammar, spelling, and tone issues\\n\"\n",
        "    \"Below are files currently in your directory:\\n{current_files}\"),\n",
        ")\n",
        "context_aware_copy_editor_agent = prelude | copy_editor_agent\n",
        "copy_editing_node = functools.partial(\n",
        "    agent_node, agent=context_aware_copy_editor_agent, name=\"CopyEditor\"\n",
        ")\n",
        "\n",
        "dopeness_editor_agent = create_agent(\n",
        "    llm,\n",
        "    [write_document, edit_document, read_document],\n",
        "    (\"You are an expert in dopeness, litness, coolness, etc - you edit the document to make sure it's dope. Make sure to use a number of emojis.\"\n",
        "    \"Below are files currently in your directory:\\n{current_files}\"),\n",
        ")\n",
        "context_aware_dopeness_editor_agent = prelude | dopeness_editor_agent\n",
        "dopeness_node = functools.partial(\n",
        "    agent_node, agent=context_aware_dopeness_editor_agent, name=\"DopenessEditor\"\n",
        ")\n",
        "\n",
        "doc_writing_supervisor = create_team_supervisor(\n",
        "    llm,\n",
        "    (\"You are a supervisor tasked with managing a conversation between the\"\n",
        "    \" following workers: {team_members}. You should always verify the technical\"\n",
        "    \" contents after any edits are made. \"\n",
        "    \"Given the following user request,\"\n",
        "    \" respond with the worker to act next. Each worker will perform a\"\n",
        "    \" task and respond with their results and status. When each team is finished,\"\n",
        "    \" you must respond with FINISH.\"),\n",
        "    [\"DocWriter\", \"NoteTaker\", \"DopenessEditor\", \"CopyEditor\"],\n",
        ")"
      ],
      "metadata": {
        "id": "v7oso327T_wa"
      },
      "execution_count": 35,
      "outputs": []
    },
    {
      "cell_type": "markdown",
      "source": [
        "### Document Writing Team LangGraph Construction\n",
        "\n",
        "This part is almost exactly the same (with a few extra nodes) as our Research Team LangGraph construction - so we'll leave it as one block!"
      ],
      "metadata": {
        "id": "AUiNMpJBGXN0"
      }
    },
    {
      "cell_type": "code",
      "source": [
        "authoring_graph = StateGraph(DocWritingState)\n",
        "authoring_graph.add_node(\"DocWriter\", doc_writing_node)\n",
        "authoring_graph.add_node(\"NoteTaker\", note_taking_node)\n",
        "authoring_graph.add_node(\"CopyEditor\", copy_editing_node)\n",
        "authoring_graph.add_node(\"DopenessEditor\", dopeness_node)\n",
        "authoring_graph.add_node(\"supervisor\", doc_writing_supervisor)\n",
        "\n",
        "authoring_graph.add_edge(\"DocWriter\", \"supervisor\")\n",
        "authoring_graph.add_edge(\"NoteTaker\", \"supervisor\")\n",
        "authoring_graph.add_edge(\"CopyEditor\", \"supervisor\")\n",
        "authoring_graph.add_edge(\"DopenessEditor\", \"supervisor\")\n",
        "\n",
        "authoring_graph.add_conditional_edges(\n",
        "    \"supervisor\",\n",
        "    lambda x: x[\"next\"],\n",
        "    {\n",
        "        \"DocWriter\": \"DocWriter\",\n",
        "        \"NoteTaker\": \"NoteTaker\",\n",
        "        \"CopyEditor\" : \"CopyEditor\",\n",
        "        \"DopenessEditor\" : \"DopenessEditor\",\n",
        "        \"FINISH\": END,\n",
        "    },\n",
        ")\n",
        "\n",
        "authoring_graph.set_entry_point(\"supervisor\")\n",
        "chain = authoring_graph.compile()"
      ],
      "metadata": {
        "id": "Q6n8A1ytxVTv"
      },
      "execution_count": 36,
      "outputs": []
    },
    {
      "cell_type": "markdown",
      "source": [
        "#### Display Graph"
      ],
      "metadata": {
        "id": "Zx-EKGkHKUBO"
      }
    },
    {
      "cell_type": "code",
      "source": [
        "from IPython.display import Image, display\n",
        "\n",
        "try:\n",
        "    display(Image(chain.get_graph(xray=True).draw_mermaid_png()))\n",
        "except:\n",
        "    pass"
      ],
      "metadata": {
        "colab": {
          "base_uri": "https://localhost:8080/",
          "height": 488
        },
        "id": "AZdOb3GZKSM7",
        "outputId": "19bb349c-c844-4761-b128-ad23ac947d71"
      },
      "execution_count": 37,
      "outputs": [
        {
          "output_type": "display_data",
          "data": {
            "image/jpeg": "[encoded data removed]",
            "text/plain": [
              "<IPython.core.display.Image object>"
            ]
          },
          "metadata": {}
        }
      ]
    },
    {
      "cell_type": "markdown",
      "source": [
        "Just as before - we'll need to create an \"interface\" between the level above, and our graph."
      ],
      "metadata": {
        "id": "yB_rOw1hGpwd"
      }
    },
    {
      "cell_type": "code",
      "source": [
        "def enter_chain(message: str, members: List[str]):\n",
        "    results = {\n",
        "        \"messages\": [HumanMessage(content=message)],\n",
        "        \"team_members\": \", \".join(members),\n",
        "    }\n",
        "    return results\n",
        "\n",
        "authoring_chain = (\n",
        "    functools.partial(enter_chain, members=authoring_graph.nodes)\n",
        "    | authoring_graph.compile()\n",
        ")"
      ],
      "metadata": {
        "id": "G-RbbCKoG_nt"
      },
      "execution_count": 38,
      "outputs": []
    },
    {
      "cell_type": "markdown",
      "source": [
        "Now we can test this out!\n",
        "\n",
        "> NOTE: It is possible you may see an error here - rerun the cell to clear."
      ],
      "metadata": {
        "id": "GgyhpTrRNgQd"
      }
    },
    {
      "cell_type": "code",
      "source": [
        "for s in authoring_chain.stream(\n",
        "    \"Write an outline for for a short LinkedIn post on Linear Regression and write it to disk.\",\n",
        "    {\"recursion_limit\": 100},\n",
        "):\n",
        "    if \"__end__\" not in s:\n",
        "        print(s)\n",
        "        print(\"---\")"
      ],
      "metadata": {
        "colab": {
          "base_uri": "https://localhost:8080/"
        },
        "id": "IWUxv4XDx3kg",
        "outputId": "7bf97373-a246-406f-acdc-901835576a9b"
      },
      "execution_count": 39,
      "outputs": [
        {
          "output_type": "stream",
          "name": "stdout",
          "text": [
            "{'supervisor': {'next': 'NoteTaker'}}\n",
            "---\n",
            "{'NoteTaker': {'messages': [HumanMessage(content='The outline for the LinkedIn post on Linear Regression has been successfully created and saved. It covers key aspects including its introduction, importance, components, applications, and concludes with a call to action. This structure will guide the detailed content creation for the post.', name='NoteTaker')]}}\n",
            "---\n",
            "{'supervisor': {'next': 'DocWriter'}}\n",
            "---\n",
            "{'DocWriter': {'messages': [HumanMessage(content='The outline for the LinkedIn post on Linear Regression has been successfully created and saved. This document provides a structured approach to discussing the importance, components, and applications of Linear Regression, making it a valuable resource for crafting an informative and engaging post.', name='DocWriter')]}}\n",
            "---\n",
            "{'supervisor': {'next': 'DocWriter'}}\n",
            "---\n",
            "{'DocWriter': {'messages': [HumanMessage(content='The outline for a LinkedIn post on Linear Regression has been successfully written and saved as \"LinkedIn_Post_Outline_Linear_Regression.txt\". This outline will serve as a blueprint for crafting an engaging and informative LinkedIn post, emphasizing the significance and applications of Linear Regression in various industries.', name='DocWriter')]}}\n",
            "---\n",
            "{'supervisor': {'next': 'FINISH'}}\n",
            "---\n"
          ]
        }
      ]
    },
    {
      "cell_type": "markdown",
      "source": [
        "## Task 5: Meta-Supervisor and Full Graph\n",
        "\n",
        "Finally, now that we have our two LangGraph agents (some of which are already multi-agent), we can build a supervisor that sits above all of them!\n",
        "\n",
        "The final process, surprisingly, is quite straight forward!\n",
        "\n",
        "Let's jump in!\n",
        "\n",
        "First off - we'll need to create our supervisor agent node."
      ],
      "metadata": {
        "id": "zpW2R9SUHGUq"
      }
    },
    {
      "cell_type": "code",
      "source": [
        "from langchain_core.messages import AIMessage, BaseMessage, HumanMessage\n",
        "from langchain_openai.chat_models import ChatOpenAI\n",
        "\n",
        "\n",
        "llm = ChatOpenAI(model=\"gpt-4\")\n",
        "\n",
        "supervisor_node = create_team_supervisor(\n",
        "    llm,\n",
        "    \"You are a supervisor tasked with managing a conversation between the\"\n",
        "    \" following teams: {team_members}. Given the following user request,\"\n",
        "    \" respond with the worker to act next. Each worker will perform a\"\n",
        "    \" task and respond with their results and status. When all workers are finished,\"\n",
        "    \" you must respond with FINISH.\",\n",
        "    [\"Research team\", \"LinkedIn team\"],\n",
        ")"
      ],
      "metadata": {
        "id": "wkpxeUf9ygKp"
      },
      "execution_count": 40,
      "outputs": []
    },
    {
      "cell_type": "markdown",
      "source": [
        "We'll also create our new state - as well as some methods to help us navigate the new state and the subgraphs.\n",
        "\n",
        "> NOTE: We only pass the most recent message from the parent graph to the subgraph, and we only extract the most recent message from the subgraph to include in the state of the parent graph."
      ],
      "metadata": {
        "id": "hUvOh_xWIKig"
      }
    },
    {
      "cell_type": "code",
      "source": [
        "class State(TypedDict):\n",
        "    messages: Annotated[List[BaseMessage], operator.add]\n",
        "    next: str\n",
        "\n",
        "def get_last_message(state: State) -> str:\n",
        "    return state[\"messages\"][-1].content\n",
        "\n",
        "def join_graph(response: dict):\n",
        "    return {\"messages\": [response[\"messages\"][-1]]}"
      ],
      "metadata": {
        "id": "O7HJ8MF0yh_i"
      },
      "execution_count": 41,
      "outputs": []
    },
    {
      "cell_type": "markdown",
      "source": [
        "Next, we'll create our base graph.\n",
        "\n",
        "Notice how each node we're adding is *AN ENTIRE LANGGRAPH AGENT* (wrapped into an LCEL chain with our helper functions above)."
      ],
      "metadata": {
        "id": "B5RHao1sIanG"
      }
    },
    {
      "cell_type": "code",
      "source": [
        "super_graph = StateGraph(State)\n",
        "\n",
        "super_graph.add_node(\"Research team\", get_last_message | research_chain | join_graph)\n",
        "super_graph.add_node(\n",
        "    \"LinkedIn team\", get_last_message | authoring_chain | join_graph\n",
        ")\n",
        "super_graph.add_node(\"supervisor\", supervisor_node)"
      ],
      "metadata": {
        "id": "PfCWABCMIaFy"
      },
      "execution_count": 42,
      "outputs": []
    },
    {
      "cell_type": "markdown",
      "source": [
        "Next, we'll create our edges!\n",
        "\n",
        "This process is completely idenctical to what we've seen before - just addressing the LangGraph subgraph nodes instead of individual nodes."
      ],
      "metadata": {
        "id": "dpwpUXMtI62E"
      }
    },
    {
      "cell_type": "code",
      "source": [
        "super_graph.add_edge(\"Research team\", \"supervisor\")\n",
        "super_graph.add_edge(\"LinkedIn team\", \"supervisor\")\n",
        "super_graph.add_conditional_edges(\n",
        "    \"supervisor\",\n",
        "    lambda x: x[\"next\"],\n",
        "    {\n",
        "        \"LinkedIn team\": \"LinkedIn team\",\n",
        "        \"Research team\": \"Research team\",\n",
        "        \"FINISH\": END,\n",
        "    },\n",
        ")\n",
        "super_graph.set_entry_point(\"supervisor\")\n",
        "super_graph = super_graph.compile()"
      ],
      "metadata": {
        "id": "tLtjRuUYI-fx"
      },
      "execution_count": 43,
      "outputs": []
    },
    {
      "cell_type": "markdown",
      "source": [
        "That's it!\n",
        "\n",
        "Now we can finally use our full agent!"
      ],
      "metadata": {
        "id": "K1KMfFqgJKw8"
      }
    },
    {
      "cell_type": "code",
      "source": [
        "WORKING_DIRECTORY = Path(create_random_subdirectory())\n",
        "\n",
        "for s in super_graph.stream(\n",
        "    {\n",
        "        \"messages\": [\n",
        "            HumanMessage(\n",
        "                content=\"Write a LinkedIn post on the paper 'Extending Llama-3’s Context Ten-Fold Overnight'. First consult the research team. Then make sure you consult the LinkedIn team, and check for copy editing and dopeness, and write the file to disk.\"\n",
        "            )\n",
        "        ],\n",
        "    },\n",
        "    {\"recursion_limit\": 30},\n",
        "):\n",
        "    if \"__end__\" not in s:\n",
        "        print(s)\n",
        "        print(\"---\")"
      ],
      "metadata": {
        "colab": {
          "base_uri": "https://localhost:8080/",
          "height": 1000
        },
        "id": "3M6wUDR-yk8s",
        "outputId": "6d7baeea-71cd-4561-bb3a-39ab98637797"
      },
      "execution_count": 45,
      "outputs": [
        {
          "output_type": "stream",
          "name": "stdout",
          "text": [
            "{'supervisor': {'next': 'Research team'}}\n",
            "---\n",
            "{'Research team': {'messages': [HumanMessage(content='🚀 Exciting News in AI Research! 🚀\\n\\nWe\\'re thrilled to share the groundbreaking results from the recently published paper, \"Extending Llama-3’s Context Ten-Fold Overnight.\" This innovative research has successfully expanded the context length of the Llama-3-8B-Instruct model from 8K to an impressive 80K tokens!\\n\\n🔍 Key Highlights:\\n- Efficient training completed in just 8 hours using a single 8xA800 (80G) GPU machine.\\n- Outstanding performance on various AI tasks such as NIHS, topic retrieval, and long-context language understanding, without compromising shorter context capabilities.\\n- Utilization of 3.5K synthetic training samples generated by GPT-4, showcasing the potential of large language models to handle significantly extended contexts.\\n- Plans for public release of all associated resources, including data, model, and training code.\\n\\nThis leap in context handling paves the way for more complex and nuanced AI interactions, promising advancements in how we engage with technology. Stay tuned for the public release of the Llama-3-8B-Instruct-80K-QLoRA model and its resources!\\n\\n#AILanguageModels #MachineLearning #ArtificialIntelligence #Innovation #TechNews\\n\\n🔗 [Link to paper]\\n\\n(Note: Adjust the link and any specific hashtags according to your professional LinkedIn profile and preferences.)\\n\\n---\\n\\nThis draft encapsulates the key points from the paper for a professional LinkedIn audience. If you have any specific adjustments or additions, please let me know!', name='PaperInformationRetriever')]}}\n",
            "---\n",
            "{'supervisor': {'next': 'LinkedIn team'}}\n",
            "---\n",
            "{'LinkedIn team': {'messages': [HumanMessage(content='The LinkedIn post has been drafted and saved successfully. If you need any further modifications or have additional content to include, feel free to let me know!', name='DocWriter')]}}\n",
            "---\n",
            "{'supervisor': {'next': 'LinkedIn team'}}\n",
            "---\n",
            "{'LinkedIn team': {'messages': [HumanMessage(content='The LinkedIn post has been drafted and saved successfully. If you need any further modifications or have additional content to include, feel free to let me know!')]}}\n",
            "---\n",
            "{'supervisor': {'next': 'LinkedIn team'}}\n",
            "---\n",
            "{'LinkedIn team': {'messages': [HumanMessage(content='The LinkedIn post has been drafted and saved successfully. If you need any further modifications or have additional content to include, feel free to let me know!')]}}\n",
            "---\n",
            "{'supervisor': {'next': 'LinkedIn team'}}\n",
            "---\n",
            "{'LinkedIn team': {'messages': [HumanMessage(content='The LinkedIn post has been drafted and saved successfully. If you need any further modifications or have additional content to include, feel free to let me know!')]}}\n",
            "---\n",
            "{'supervisor': {'next': 'LinkedIn team'}}\n",
            "---\n",
            "{'LinkedIn team': {'messages': [HumanMessage(content='The LinkedIn post has been drafted and saved successfully. If you need any further modifications or have additional content to include, feel free to let me know!')]}}\n",
            "---\n",
            "{'supervisor': {'next': 'LinkedIn team'}}\n",
            "---\n",
            "{'LinkedIn team': {'messages': [HumanMessage(content='The LinkedIn post has been drafted and saved successfully. If you need any further modifications or have additional content to include, feel free to let me know!')]}}\n",
            "---\n",
            "{'supervisor': {'next': 'LinkedIn team'}}\n",
            "---\n",
            "{'LinkedIn team': {'messages': [HumanMessage(content='The LinkedIn post has been drafted and saved successfully. If you need any further modifications or have additional content to include, feel free to let me know!')]}}\n",
            "---\n",
            "{'supervisor': {'next': 'LinkedIn team'}}\n",
            "---\n",
            "{'LinkedIn team': {'messages': [HumanMessage(content='The LinkedIn post has been drafted and saved successfully. If you need any further modifications or have additional content to include, feel free to let me know!')]}}\n",
            "---\n",
            "{'supervisor': {'next': 'LinkedIn team'}}\n",
            "---\n",
            "{'LinkedIn team': {'messages': [HumanMessage(content='The LinkedIn post has been drafted and saved successfully. If you need any further modifications or have additional content to include, feel free to let me know!')]}}\n",
            "---\n",
            "{'supervisor': {'next': 'LinkedIn team'}}\n",
            "---\n",
            "{'LinkedIn team': {'messages': [HumanMessage(content='The LinkedIn post has been drafted and saved successfully. If you need any further modifications or have additional content to include, feel free to let me know!')]}}\n",
            "---\n",
            "{'supervisor': {'next': 'LinkedIn team'}}\n",
            "---\n",
            "{'LinkedIn team': {'messages': [HumanMessage(content='The LinkedIn post has been drafted and saved successfully. If you need any further modifications or have additional content to include, feel free to let me know!')]}}\n",
            "---\n",
            "{'supervisor': {'next': 'LinkedIn team'}}\n",
            "---\n",
            "{'LinkedIn team': {'messages': [HumanMessage(content='The LinkedIn post has been drafted and saved successfully. If you need any further modifications or have additional content to include, feel free to let me know!')]}}\n",
            "---\n",
            "{'supervisor': {'next': 'LinkedIn team'}}\n",
            "---\n",
            "{'LinkedIn team': {'messages': [HumanMessage(content='The LinkedIn post has been drafted and saved successfully. If you need any further modifications or have additional content to include, feel free to let me know!')]}}\n",
            "---\n",
            "{'supervisor': {'next': 'LinkedIn team'}}\n",
            "---\n",
            "{'LinkedIn team': {'messages': [HumanMessage(content='The LinkedIn post has been drafted and saved successfully. If you need any further modifications or have additional content to include, feel free to let me know!')]}}\n",
            "---\n"
          ]
        },
        {
          "output_type": "error",
          "ename": "GraphRecursionError",
          "evalue": "Recursion limit of 30 reached without hitting a stop condition. You can increase the limit by setting the `recursion_limit` config key.",
          "traceback": [
            "\u001b[0;31m---------------------------------------------------------------------------\u001b[0m",
            "\u001b[0;31mGraphRecursionError\u001b[0m                       Traceback (most recent call last)",
            "\u001b[0;32m<ipython-input-45-2c00267eefeb>\u001b[0m in \u001b[0;36m<cell line: 0>\u001b[0;34m()\u001b[0m\n\u001b[1;32m      1\u001b[0m \u001b[0mWORKING_DIRECTORY\u001b[0m \u001b[0;34m=\u001b[0m \u001b[0mPath\u001b[0m\u001b[0;34m(\u001b[0m\u001b[0mcreate_random_subdirectory\u001b[0m\u001b[0;34m(\u001b[0m\u001b[0;34m)\u001b[0m\u001b[0;34m)\u001b[0m\u001b[0;34m\u001b[0m\u001b[0;34m\u001b[0m\u001b[0m\n\u001b[1;32m      2\u001b[0m \u001b[0;34m\u001b[0m\u001b[0m\n\u001b[0;32m----> 3\u001b[0;31m for s in super_graph.stream(\n\u001b[0m\u001b[1;32m      4\u001b[0m     {\n\u001b[1;32m      5\u001b[0m         \"messages\": [\n",
            "\u001b[0;32m/usr/local/lib/python3.11/dist-packages/langgraph/pregel/__init__.py\u001b[0m in \u001b[0;36mstream\u001b[0;34m(self, input, config, stream_mode, output_keys, interrupt_before, interrupt_after, debug)\u001b[0m\n\u001b[1;32m   1038\u001b[0m             \u001b[0;31m# handle exit\u001b[0m\u001b[0;34m\u001b[0m\u001b[0;34m\u001b[0m\u001b[0m\n\u001b[1;32m   1039\u001b[0m             \u001b[0;32mif\u001b[0m \u001b[0mloop\u001b[0m\u001b[0;34m.\u001b[0m\u001b[0mstatus\u001b[0m \u001b[0;34m==\u001b[0m \u001b[0;34m\"out_of_steps\"\u001b[0m\u001b[0;34m:\u001b[0m\u001b[0;34m\u001b[0m\u001b[0;34m\u001b[0m\u001b[0m\n\u001b[0;32m-> 1040\u001b[0;31m                 raise GraphRecursionError(\n\u001b[0m\u001b[1;32m   1041\u001b[0m                     \u001b[0;34mf\"Recursion limit of {config['recursion_limit']} reached \"\u001b[0m\u001b[0;34m\u001b[0m\u001b[0;34m\u001b[0m\u001b[0m\n\u001b[1;32m   1042\u001b[0m                     \u001b[0;34m\"without hitting a stop condition. You can increase the \"\u001b[0m\u001b[0;34m\u001b[0m\u001b[0;34m\u001b[0m\u001b[0m\n",
            "\u001b[0;31mGraphRecursionError\u001b[0m: Recursion limit of 30 reached without hitting a stop condition. You can increase the limit by setting the `recursion_limit` config key."
          ]
        }
      ]
    },
    {
      "cell_type": "markdown",
      "source": [
        "## SAMPLE POST!"
      ],
      "metadata": {
        "id": "PuZAvSlJJpPP"
      }
    },
    {
      "cell_type": "markdown",
      "source": [
        "🚀 Exciting News in AI Research! 🚀\n",
        "\n",
        "We're thrilled to share a groundbreaking achievement in the field of large language models (LLMs)! A recent study titled \"Extending Llama-3’s Context Ten-Fold Overnight\" has successfully expanded the context length of Llama-3 from 8K to a staggering 80K tokens using QLoRA fine-tuning. This enhancement was accomplished in just eight hours on a single 8xA800 (80G) GPU machine, demonstrating both efficiency and effectiveness in model training.\n",
        "\n",
        "🔍 This remarkable advancement not only improves Llama-3’s performance across various benchmarks such as NIHS, topic retrieval, and long-context language understanding, but also preserves the model's ability to generalize beyond its training contexts, handling up to 128K tokens. This capability makes it a formidable tool in processing extensive textual information, pushing the boundaries of what AI can achieve.\n",
        "\n",
        "📊 Evaluated on LongBench and InfiniteBench, the model consistently outperformed baselines, setting a new standard in the field. Although it faced challenges in code completion tasks, the overall results are overwhelmingly positive.\n",
        "\n",
        "🌐 The full resources, including the model, training data, and code, are now publicly available, providing an invaluable asset for further research in training long-context LLMs.\n",
        "\n",
        "🔗 For more details, check out the full paper [here](https://www.emergentmind.com/papers/2404.19553).\n",
        "\n",
        "Let's continue pushing the limits of what AI can do! #AILLMs #MachineLearning #AIResearch #LanguageModels #Innovation\n"
      ],
      "metadata": {
        "id": "lOEMCrXTJaxW"
      }
    }
  ]
}